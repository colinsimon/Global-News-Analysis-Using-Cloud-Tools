{
 "cells": [
  {
   "cell_type": "markdown",
   "metadata": {},
   "source": [
    "# PCA & Modeling\n",
    "\n",
    "---\n",
    "\n",
    "Nate Bukowski"
   ]
  },
  {
   "cell_type": "code",
   "execution_count": null,
   "metadata": {},
   "outputs": [],
   "source": [
    "# Imports\n",
    "import pandas as pd\n",
    "import numpy as np\n",
    "\n",
    "import matplotlib.pyplot as plt\n",
    "import seaborn as sns\n",
    "\n",
    "# sklearn imports\n",
    "from sklearn.model_selection import train_test_split, GridSearchCV\n",
    "from sklearn.linear_model import LogisticRegression\n",
    "from sklearn.ensemble import RandomForestClassifier\n",
    "from sklearn.neighbors import KNeighborsClassifier\n",
    "from sklearn.svm import SVC\n",
    "from sklearn.preprocessing import StandardScaler\n",
    "from sklearn.decomposition import PCA\n",
    "from sklearn.pipeline import Pipeline\n",
    "from sklearn.metrics import confusion_matrix, plot_confusion_matrix, roc_auc_score\n",
    "\n",
    "%matplotlib inline"
   ]
  },
  {
   "cell_type": "code",
   "execution_count": 5,
   "metadata": {},
   "outputs": [],
   "source": [
    "master = pd.read_csv('./cvec_master.csv')"
   ]
  },
  {
   "cell_type": "code",
   "execution_count": 6,
   "metadata": {},
   "outputs": [
    {
     "data": {
      "text/html": [
       "<div>\n",
       "<style scoped>\n",
       "    .dataframe tbody tr th:only-of-type {\n",
       "        vertical-align: middle;\n",
       "    }\n",
       "\n",
       "    .dataframe tbody tr th {\n",
       "        vertical-align: top;\n",
       "    }\n",
       "\n",
       "    .dataframe thead th {\n",
       "        text-align: right;\n",
       "    }\n",
       "</style>\n",
       "<table border=\"1\" class=\"dataframe\">\n",
       "  <thead>\n",
       "    <tr style=\"text-align: right;\">\n",
       "      <th></th>\n",
       "      <th>date</th>\n",
       "      <th>latitude</th>\n",
       "      <th>longitude</th>\n",
       "      <th>tone</th>\n",
       "      <th>1000</th>\n",
       "      <th>1014</th>\n",
       "      <th>1024</th>\n",
       "      <th>1026</th>\n",
       "      <th>1039</th>\n",
       "      <th>1041</th>\n",
       "      <th>...</th>\n",
       "      <th>zambezi</th>\n",
       "      <th>zambian</th>\n",
       "      <th>zealander</th>\n",
       "      <th>zealanders</th>\n",
       "      <th>zika</th>\n",
       "      <th>zimbabwean</th>\n",
       "      <th>zimbabweans</th>\n",
       "      <th>zinc</th>\n",
       "      <th>zones</th>\n",
       "      <th>zoroastrians</th>\n",
       "    </tr>\n",
       "  </thead>\n",
       "  <tbody>\n",
       "    <tr>\n",
       "      <th>0</th>\n",
       "      <td>2020-01-01</td>\n",
       "      <td>43.0855</td>\n",
       "      <td>129.30200</td>\n",
       "      <td>2.279202</td>\n",
       "      <td>0</td>\n",
       "      <td>0</td>\n",
       "      <td>0</td>\n",
       "      <td>0</td>\n",
       "      <td>0</td>\n",
       "      <td>0</td>\n",
       "      <td>...</td>\n",
       "      <td>0</td>\n",
       "      <td>0</td>\n",
       "      <td>0</td>\n",
       "      <td>0</td>\n",
       "      <td>0</td>\n",
       "      <td>0</td>\n",
       "      <td>0</td>\n",
       "      <td>0</td>\n",
       "      <td>0</td>\n",
       "      <td>0</td>\n",
       "    </tr>\n",
       "    <tr>\n",
       "      <th>1</th>\n",
       "      <td>2020-01-01</td>\n",
       "      <td>35.0000</td>\n",
       "      <td>105.00000</td>\n",
       "      <td>0.335570</td>\n",
       "      <td>0</td>\n",
       "      <td>0</td>\n",
       "      <td>0</td>\n",
       "      <td>0</td>\n",
       "      <td>0</td>\n",
       "      <td>0</td>\n",
       "      <td>...</td>\n",
       "      <td>0</td>\n",
       "      <td>0</td>\n",
       "      <td>0</td>\n",
       "      <td>0</td>\n",
       "      <td>0</td>\n",
       "      <td>0</td>\n",
       "      <td>0</td>\n",
       "      <td>0</td>\n",
       "      <td>0</td>\n",
       "      <td>0</td>\n",
       "    </tr>\n",
       "    <tr>\n",
       "      <th>2</th>\n",
       "      <td>2020-01-01</td>\n",
       "      <td>21.0333</td>\n",
       "      <td>105.85000</td>\n",
       "      <td>-4.919786</td>\n",
       "      <td>0</td>\n",
       "      <td>0</td>\n",
       "      <td>0</td>\n",
       "      <td>0</td>\n",
       "      <td>0</td>\n",
       "      <td>0</td>\n",
       "      <td>...</td>\n",
       "      <td>0</td>\n",
       "      <td>0</td>\n",
       "      <td>0</td>\n",
       "      <td>0</td>\n",
       "      <td>0</td>\n",
       "      <td>0</td>\n",
       "      <td>0</td>\n",
       "      <td>0</td>\n",
       "      <td>0</td>\n",
       "      <td>0</td>\n",
       "    </tr>\n",
       "    <tr>\n",
       "      <th>3</th>\n",
       "      <td>2020-01-01</td>\n",
       "      <td>43.1346</td>\n",
       "      <td>-6.89444</td>\n",
       "      <td>-1.873199</td>\n",
       "      <td>0</td>\n",
       "      <td>0</td>\n",
       "      <td>0</td>\n",
       "      <td>0</td>\n",
       "      <td>0</td>\n",
       "      <td>0</td>\n",
       "      <td>...</td>\n",
       "      <td>0</td>\n",
       "      <td>0</td>\n",
       "      <td>0</td>\n",
       "      <td>0</td>\n",
       "      <td>0</td>\n",
       "      <td>0</td>\n",
       "      <td>0</td>\n",
       "      <td>0</td>\n",
       "      <td>0</td>\n",
       "      <td>0</td>\n",
       "    </tr>\n",
       "    <tr>\n",
       "      <th>4</th>\n",
       "      <td>2020-01-01</td>\n",
       "      <td>-24.3167</td>\n",
       "      <td>-47.00000</td>\n",
       "      <td>-4.449649</td>\n",
       "      <td>0</td>\n",
       "      <td>0</td>\n",
       "      <td>0</td>\n",
       "      <td>0</td>\n",
       "      <td>0</td>\n",
       "      <td>0</td>\n",
       "      <td>...</td>\n",
       "      <td>0</td>\n",
       "      <td>0</td>\n",
       "      <td>0</td>\n",
       "      <td>0</td>\n",
       "      <td>0</td>\n",
       "      <td>0</td>\n",
       "      <td>0</td>\n",
       "      <td>0</td>\n",
       "      <td>0</td>\n",
       "      <td>0</td>\n",
       "    </tr>\n",
       "  </tbody>\n",
       "</table>\n",
       "<p>5 rows × 3099 columns</p>\n",
       "</div>"
      ],
      "text/plain": [
       "         date  latitude  longitude      tone  1000  1014  1024  1026  1039  \\\n",
       "0  2020-01-01   43.0855  129.30200  2.279202     0     0     0     0     0   \n",
       "1  2020-01-01   35.0000  105.00000  0.335570     0     0     0     0     0   \n",
       "2  2020-01-01   21.0333  105.85000 -4.919786     0     0     0     0     0   \n",
       "3  2020-01-01   43.1346   -6.89444 -1.873199     0     0     0     0     0   \n",
       "4  2020-01-01  -24.3167  -47.00000 -4.449649     0     0     0     0     0   \n",
       "\n",
       "   1041  ...  zambezi  zambian  zealander  zealanders  zika  zimbabwean  \\\n",
       "0     0  ...        0        0          0           0     0           0   \n",
       "1     0  ...        0        0          0           0     0           0   \n",
       "2     0  ...        0        0          0           0     0           0   \n",
       "3     0  ...        0        0          0           0     0           0   \n",
       "4     0  ...        0        0          0           0     0           0   \n",
       "\n",
       "   zimbabweans  zinc  zones  zoroastrians  \n",
       "0            0     0      0             0  \n",
       "1            0     0      0             0  \n",
       "2            0     0      0             0  \n",
       "3            0     0      0             0  \n",
       "4            0     0      0             0  \n",
       "\n",
       "[5 rows x 3099 columns]"
      ]
     },
     "execution_count": 6,
     "metadata": {},
     "output_type": "execute_result"
    }
   ],
   "source": [
    "master.head()"
   ]
  },
  {
   "cell_type": "code",
   "execution_count": 19,
   "metadata": {},
   "outputs": [],
   "source": [
    "# Create 'months' column\n",
    "master['date'] = pd.to_datetime(master['date'])\n",
    "months = [date.month for date in master['date']]\n",
    "master['months'] = months"
   ]
  },
  {
   "cell_type": "code",
   "execution_count": 20,
   "metadata": {},
   "outputs": [],
   "source": [
    "# Define X and y \n",
    "X = master.drop(columns=['date', 'months'])\n",
    "y = master['months']"
   ]
  },
  {
   "cell_type": "code",
   "execution_count": 21,
   "metadata": {},
   "outputs": [],
   "source": [
    "# Train/test split\n",
    "X_train, X_test, y_train, y_test = train_test_split(X,\n",
    "                                                    y,\n",
    "                                                    test_size = 0.33,\n",
    "                                                    stratify = y,\n",
    "                                                    random_state = 6)"
   ]
  },
  {
   "cell_type": "markdown",
   "metadata": {},
   "source": [
    "## PCA\n",
    "---"
   ]
  },
  {
   "cell_type": "code",
   "execution_count": 25,
   "metadata": {},
   "outputs": [],
   "source": [
    "# Instantiate StandardScaler & PCA\n",
    "ss = StandardScaler()\n",
    "pca = PCA(random_state=6)\n",
    "\n",
    "# Fit & transform X_train\n",
    "X_train = ss.fit_transform(X_train)\n",
    "\n",
    "# Transform X_test\n",
    "X_test = ss.transform(X_test)\n",
    "\n",
    "# Fit & transform PCA\n",
    "Z_train = pca.fit_transform(X_train)\n",
    "Z_test = pca.transform(X_test)"
   ]
  },
  {
   "cell_type": "code",
   "execution_count": 27,
   "metadata": {},
   "outputs": [
    {
     "name": "stdout",
     "output_type": "stream",
     "text": [
      "Explained variance (first 50 components): [0.021 0.014 0.013 0.012 0.011 0.011 0.01  0.009 0.009 0.009 0.009 0.008\n",
      " 0.008 0.008 0.008 0.008 0.008 0.007 0.007 0.007 0.007 0.007 0.006 0.006\n",
      " 0.006 0.006 0.006 0.006 0.006 0.006 0.006 0.006 0.006 0.006 0.005 0.005\n",
      " 0.005 0.005 0.005 0.005 0.005 0.005 0.005 0.005 0.005 0.005 0.005 0.005\n",
      " 0.005 0.005]\n",
      "\n",
      "Cumulative explained variance (first 50 components): [0.021 0.035 0.048 0.059 0.07  0.081 0.09  0.1   0.109 0.118 0.127 0.135\n",
      " 0.144 0.152 0.16  0.167 0.175 0.182 0.189 0.196 0.203 0.21  0.216 0.223\n",
      " 0.229 0.235 0.241 0.247 0.253 0.259 0.264 0.27  0.275 0.281 0.286 0.292\n",
      " 0.297 0.302 0.308 0.313 0.318 0.323 0.328 0.333 0.337 0.342 0.347 0.352\n",
      " 0.356 0.361]\n"
     ]
    }
   ],
   "source": [
    "# Adapted from code written by Matt Brems (8.03-lesson-principal-component-analysis)\n",
    "\n",
    "# Pull the explained variance attribute.\n",
    "var_exp = pca.explained_variance_ratio_\n",
    "print(f'Explained variance (first 50 components): {np.round(var_exp[:50], 3)}')\n",
    "\n",
    "print('')\n",
    "\n",
    "# Generate the cumulative explained variance.\n",
    "cum_var_exp = np.cumsum(var_exp)\n",
    "print(f'Cumulative explained variance (first 50 components): {np.round(cum_var_exp[:50], 3)}')"
   ]
  },
  {
   "cell_type": "code",
   "execution_count": 29,
   "metadata": {},
   "outputs": [
    {
     "data": {
      "image/png": "[encoded data removed]",
      "text/plain": [
       "<Figure size 864x576 with 1 Axes>"
      ]
     },
     "metadata": {
      "needs_background": "light"
     },
     "output_type": "display_data"
    }
   ],
   "source": [
    "# Adapted from code written by Matt Brems (8.03-lesson-principal-component-analysis)\n",
    "# Plot the variance explained (and cumulative variance explained).\n",
    "\n",
    "# Set figure size.\n",
    "plt.figure(figsize=(12,8))\n",
    "\n",
    "# Plot the explained variance.\n",
    "plt.plot(range(len(var_exp)), var_exp, lw=3, label = 'Variance Explained')\n",
    "\n",
    "# Plot the cumulative explained variance.\n",
    "plt.plot(range(len(var_exp)), cum_var_exp, lw=3, color = 'orange', label = 'Cumulative Variance Explained')\n",
    "\n",
    "# Add horizontal lines at y=0 and y=1.\n",
    "plt.axhline(y=0, linewidth=1, color='grey', ls='dashed')\n",
    "plt.axhline(y=1, linewidth=1, color='grey', ls='dashed')\n",
    "\n",
    "# Set the limits of the axes.\n",
    "plt.xlim([-1,51])\n",
    "plt.ylim([-0.01,1.01])\n",
    "\n",
    "# Label the axes.\n",
    "plt.ylabel('Variance Explained', fontsize=20)\n",
    "plt.xlabel('Principal Component', fontsize=20)\n",
    "\n",
    "# Make the tick labels bigger\n",
    "plt.xticks(range(0, 51, 5), range(1, 52, 5), fontsize=12)\n",
    "plt.yticks(fontsize=12)\n",
    "    \n",
    "# Add title and legend.\n",
    "plt.title('Component vs. Variance Explained', fontsize=24)\n",
    "plt.legend(fontsize=11);"
   ]
  },
  {
   "cell_type": "markdown",
   "metadata": {},
   "source": [
    "## Modeling\n",
    "\n",
    "---"
   ]
  },
  {
   "cell_type": "code",
   "execution_count": 46,
   "metadata": {},
   "outputs": [
    {
     "data": {
      "text/plain": [
       "GridSearchCV(cv=5, error_score=nan,\n",
       "             estimator=Pipeline(memory=None,\n",
       "                                steps=[('pca',\n",
       "                                        PCA(copy=True, iterated_power='auto',\n",
       "                                            n_components=None, random_state=6,\n",
       "                                            svd_solver='auto', tol=0.0,\n",
       "                                            whiten=False)),\n",
       "                                       ('knn',\n",
       "                                        KNeighborsClassifier(algorithm='auto',\n",
       "                                                             leaf_size=30,\n",
       "                                                             metric='minkowski',\n",
       "                                                             metric_params=None,\n",
       "                                                             n_jobs=None,\n",
       "                                                             n_neighbors=5, p=2,\n",
       "                                                             weights='uniform'))],\n",
       "                                verbose=False),\n",
       "             iid='deprecated', n_jobs=None,\n",
       "             param_grid={'knn__n_neighbors': [5, 15, 25],\n",
       "                         'pca__n_components': [15, 30, 50, 100]},\n",
       "             pre_dispatch='2*n_jobs', refit=True, return_train_score=False,\n",
       "             scoring=None, verbose=0)"
      ]
     },
     "execution_count": 46,
     "metadata": {},
     "output_type": "execute_result"
    }
   ],
   "source": [
    "# KNN Pipeline\n",
    "\n",
    "knn_pipe = Pipeline([\n",
    "    ('pca', PCA(random_state=6)),\n",
    "    ('knn', KNeighborsClassifier())\n",
    "])\n",
    "\n",
    "knn_params = {\n",
    "    'pca__n_components': [15, 30, 50, 100],\n",
    "    'knn__n_neighbors': [5, 15, 25]\n",
    "}\n",
    "\n",
    "\n",
    "knn_gs = GridSearchCV(knn_pipe,\n",
    "                      knn_params,\n",
    "                      cv=5)\n",
    "\n",
    "knn_gs.fit(X_train, y_train)"
   ]
  },
  {
   "cell_type": "code",
   "execution_count": 47,
   "metadata": {},
   "outputs": [
    {
     "data": {
      "text/plain": [
       "GridSearchCV(cv=5, error_score=nan,\n",
       "             estimator=Pipeline(memory=None,\n",
       "                                steps=[('pca',\n",
       "                                        PCA(copy=True, iterated_power='auto',\n",
       "                                            n_components=None, random_state=6,\n",
       "                                            svd_solver='auto', tol=0.0,\n",
       "                                            whiten=False)),\n",
       "                                       ('logreg',\n",
       "                                        LogisticRegression(C=1.0,\n",
       "                                                           class_weight=None,\n",
       "                                                           dual=False,\n",
       "                                                           fit_intercept=True,\n",
       "                                                           intercept_scaling=1,\n",
       "                                                           l1_ratio=None,\n",
       "                                                           max_iter=10000,\n",
       "                                                           multi_class='auto',\n",
       "                                                           n_jobs=None,\n",
       "                                                           penalty='l2',\n",
       "                                                           random_state=None,\n",
       "                                                           solver='lbfgs',\n",
       "                                                           tol=0.0001,\n",
       "                                                           verbose=0,\n",
       "                                                           warm_start=False))],\n",
       "                                verbose=False),\n",
       "             iid='deprecated', n_jobs=None,\n",
       "             param_grid={'pca__n_components': [15, 30, 50, 100]},\n",
       "             pre_dispatch='2*n_jobs', refit=True, return_train_score=False,\n",
       "             scoring=None, verbose=0)"
      ]
     },
     "execution_count": 47,
     "metadata": {},
     "output_type": "execute_result"
    }
   ],
   "source": [
    "# Logistic Regression Pipeline\n",
    "\n",
    "logreg_pipe = Pipeline([\n",
    "    ('pca', PCA(random_state=6)),\n",
    "    ('logreg', LogisticRegression(solver='lbfgs', max_iter=10_000))\n",
    "])\n",
    "\n",
    "logreg_params = {\n",
    "    'pca__n_components': [15, 30, 50, 100]\n",
    "}\n",
    "\n",
    "\n",
    "logreg_gs = GridSearchCV(logreg_pipe,\n",
    "                         logreg_params,\n",
    "                         cv=5)\n",
    "\n",
    "logreg_gs.fit(X_train, y_train)"
   ]
  },
  {
   "cell_type": "code",
   "execution_count": 67,
   "metadata": {},
   "outputs": [
    {
     "data": {
      "text/plain": [
       "GridSearchCV(cv=5, error_score=nan,\n",
       "             estimator=Pipeline(memory=None,\n",
       "                                steps=[('pca',\n",
       "                                        PCA(copy=True, iterated_power='auto',\n",
       "                                            n_components=None, random_state=6,\n",
       "                                            svd_solver='auto', tol=0.0,\n",
       "                                            whiten=False)),\n",
       "                                       ('rf',\n",
       "                                        RandomForestClassifier(bootstrap=True,\n",
       "                                                               ccp_alpha=0.0,\n",
       "                                                               class_weight=None,\n",
       "                                                               criterion='gini',\n",
       "                                                               max_depth=None,\n",
       "                                                               max_features='auto',\n",
       "                                                               max_leaf_nodes=None,\n",
       "                                                               max_samples=N...\n",
       "                                                               n_estimators=100,\n",
       "                                                               n_jobs=None,\n",
       "                                                               oob_score=False,\n",
       "                                                               random_state=6,\n",
       "                                                               verbose=0,\n",
       "                                                               warm_start=False))],\n",
       "                                verbose=False),\n",
       "             iid='deprecated', n_jobs=None,\n",
       "             param_grid={'pca__n_components': [15, 30, 50, 100],\n",
       "                         'rf__max_depth': [None, 25, 100],\n",
       "                         'rf__max_features': [None, 'auto'],\n",
       "                         'rf__n_estimators': [50, 100]},\n",
       "             pre_dispatch='2*n_jobs', refit=True, return_train_score=False,\n",
       "             scoring=None, verbose=0)"
      ]
     },
     "execution_count": 67,
     "metadata": {},
     "output_type": "execute_result"
    }
   ],
   "source": [
    "# Random Forest Pipeline\n",
    "\n",
    "rf_pipe = Pipeline([\n",
    "    ('pca', PCA(random_state=6)),\n",
    "    ('rf', RandomForestClassifier(random_state=6))\n",
    "])\n",
    "\n",
    "rf_params = {\n",
    "    'pca__n_components': [15, 30, 50, 100],\n",
    "    'rf__n_estimators': [50, 100],\n",
    "    'rf__max_depth': [None, 25, 100],\n",
    "    'rf__max_features': [None, 'auto']\n",
    "}\n",
    "\n",
    "\n",
    "rf_gs = GridSearchCV(rf_pipe,\n",
    "                     rf_params,\n",
    "                     cv=5)\n",
    "\n",
    "rf_gs.fit(X_train, y_train)"
   ]
  },
  {
   "cell_type": "code",
   "execution_count": 73,
   "metadata": {},
   "outputs": [
    {
     "data": {
      "text/plain": [
       "GridSearchCV(cv=5, error_score=nan,\n",
       "             estimator=Pipeline(memory=None,\n",
       "                                steps=[('pca',\n",
       "                                        PCA(copy=True, iterated_power='auto',\n",
       "                                            n_components=None, random_state=6,\n",
       "                                            svd_solver='auto', tol=0.0,\n",
       "                                            whiten=False)),\n",
       "                                       ('svc',\n",
       "                                        SVC(C=1.0, break_ties=False,\n",
       "                                            cache_size=200, class_weight=None,\n",
       "                                            coef0=0.0,\n",
       "                                            decision_function_shape='ovr',\n",
       "                                            degree=3, gamma='scale',\n",
       "                                            kernel='rbf', max_iter=-1,\n",
       "                                            probability=False,\n",
       "                                            random_state=None, shrinking=True,\n",
       "                                            tol=0.001, verbose=False))],\n",
       "                                verbose=False),\n",
       "             iid='deprecated', n_jobs=None,\n",
       "             param_grid={'pca__n_components': [15, 30, 50, 100],\n",
       "                         'svc__C': [0.1, 1, 10, 100],\n",
       "                         'svc__gamma': ['scale', 'auto'],\n",
       "                         'svc__kernel': ['linear', 'rbf']},\n",
       "             pre_dispatch='2*n_jobs', refit=True, return_train_score=False,\n",
       "             scoring=None, verbose=0)"
      ]
     },
     "execution_count": 73,
     "metadata": {},
     "output_type": "execute_result"
    }
   ],
   "source": [
    "# SVC Pipeline\n",
    "\n",
    "svc_pipe = Pipeline([\n",
    "    ('pca', PCA(random_state=6)),\n",
    "    ('svc', SVC())\n",
    "])\n",
    "\n",
    "svc_params = {\n",
    "    'pca__n_components': [15, 30, 50, 100],\n",
    "    'svc__C': [0.1, 1, 10, 100],\n",
    "    'svc__gamma': ['scale', 'auto'],\n",
    "    'svc__kernel': ['linear', 'rbf']\n",
    "}\n",
    "\n",
    "\n",
    "svc_gs = GridSearchCV(svc_pipe,\n",
    "                      svc_params,\n",
    "                      cv=5)\n",
    "\n",
    "svc_gs.fit(X_train, y_train)"
   ]
  },
  {
   "cell_type": "markdown",
   "metadata": {},
   "source": [
    "## Model Scoring\n",
    "\n",
    "---\n"
   ]
  },
  {
   "cell_type": "code",
   "execution_count": 69,
   "metadata": {},
   "outputs": [],
   "source": [
    "# Function to score models\n",
    "def score_model(gridsearch):\n",
    "    \n",
    "    if gridsearch == knn_gs:   \n",
    "        print(\"K-Nearest Neighbors:\")\n",
    "        \n",
    "    if gridsearch == logreg_gs:   \n",
    "        print(\"Logistic Regression:\")\n",
    " \n",
    "    if gridsearch == rf_gs:   \n",
    "        print(\"Random Forest:\")\n",
    "          \n",
    "    if gridsearch == svc_gs:   \n",
    "        print(\"Support Vector Machine:/n\")\n",
    "        \n",
    "    print(f\"Train Score: {gridsearch.score(X_train, y_train)}\")  \n",
    "    print(f\"Test Score: {gridsearch.score(X_test, y_test)}\")  \n",
    "    print(f\"Best Parameters: {gridsearch.best_params_}\")\n",
    "    "
   ]
  },
  {
   "cell_type": "code",
   "execution_count": 70,
   "metadata": {},
   "outputs": [
    {
     "name": "stdout",
     "output_type": "stream",
     "text": [
      "K-Nearest Neighbors:\n",
      "Train Score: 0.5888738127544098\n",
      "Test Score: 0.3746556473829201\n",
      "Best Parameters: {'knn__n_neighbors': 5, 'pca__n_components': 30}\n"
     ]
    }
   ],
   "source": [
    "score_model(knn_gs)"
   ]
  },
  {
   "cell_type": "code",
   "execution_count": 71,
   "metadata": {},
   "outputs": [
    {
     "name": "stdout",
     "output_type": "stream",
     "text": [
      "Logistic Regression:\n",
      "Train Score: 0.6960651289009498\n",
      "Test Score: 0.3691460055096419\n",
      "Best Parameters: {'pca__n_components': 100}\n"
     ]
    }
   ],
   "source": [
    "score_model(logreg_gs)"
   ]
  },
  {
   "cell_type": "code",
   "execution_count": 72,
   "metadata": {},
   "outputs": [
    {
     "name": "stdout",
     "output_type": "stream",
     "text": [
      "Random Forest:\n",
      "Train Score: 1.0\n",
      "Test Score: 0.4462809917355372\n",
      "Best Parameters: {'pca__n_components': 30, 'rf__max_depth': None, 'rf__max_features': 'auto', 'rf__n_estimators': 100}\n"
     ]
    }
   ],
   "source": [
    "score_model(rf_gs)"
   ]
  },
  {
   "cell_type": "code",
   "execution_count": 74,
   "metadata": {},
   "outputs": [
    {
     "name": "stdout",
     "output_type": "stream",
     "text": [
      "Support Vector Machine:/n\n",
      "Train Score: 0.9932157394843962\n",
      "Test Score: 0.42424242424242425\n",
      "Best Parameters: {'pca__n_components': 50, 'svc__C': 100, 'svc__gamma': 'auto', 'svc__kernel': 'rbf'}\n"
     ]
    }
   ],
   "source": [
    "score_model(svc_gs)"
   ]
  },
  {
   "cell_type": "code",
   "execution_count": null,
   "metadata": {},
   "outputs": [],
   "source": []
  }
 ],
 "metadata": {
  "kernelspec": {
   "display_name": "Python 3",
   "language": "python",
   "name": "python3"
  },
  "language_info": {
   "codemirror_mode": {
    "name": "ipython",
    "version": 3
   },
   "file_extension": ".py",
   "mimetype": "text/x-python",
   "name": "python",
   "nbconvert_exporter": "python",
   "pygments_lexer": "ipython3",
   "version": "3.7.6"
  }
 },
 "nbformat": 4,
 "nbformat_minor": 4
}
