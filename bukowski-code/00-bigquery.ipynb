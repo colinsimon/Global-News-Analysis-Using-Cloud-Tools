{
 "cells": [
  {
   "cell_type": "markdown",
   "metadata": {},
   "source": [
    "# Google BigQuery: Gathering the GKG Data\n",
    "\n",
    "---\n",
    "\n",
    "Nate Bukowski\n",
    "\n",
    "> Description of the GKG Dataset and the reasoning behind these querys."
   ]
  },
  {
   "cell_type": "code",
   "execution_count": 1,
   "metadata": {},
   "outputs": [],
   "source": [
    "# imports\n",
    "import pandas as pd\n",
    "import numpy as np\n",
    "\n",
    "from google.cloud import bigquery\n",
    "\n",
    "%load_ext google.cloud.bigquery"
   ]
  },
  {
   "cell_type": "code",
   "execution_count": 2,
   "metadata": {},
   "outputs": [],
   "source": [
    "# Construct a BigQuery client object\n",
    "client = bigquery.Client()"
   ]
  },
  {
   "cell_type": "code",
   "execution_count": 3,
   "metadata": {},
   "outputs": [
    {
     "name": "stdout",
     "output_type": "stream",
     "text": [
      "Fetching January, 01 data.\n",
      "Fetching January, 02 data.\n",
      "Fetching January, 03 data.\n",
      "Fetching January, 04 data.\n",
      "Fetching January, 05 data.\n",
      "Fetching January, 06 data.\n",
      "Fetching January, 07 data.\n",
      "Fetching January, 08 data.\n",
      "Fetching January, 09 data.\n",
      "Fetching January, 10 data.\n",
      "Fetching January, 11 data.\n",
      "Fetching January, 12 data.\n",
      "Fetching January, 13 data.\n",
      "Fetching January, 14 data.\n",
      "Fetching January, 15 data.\n",
      "Fetching January, 16 data.\n",
      "Fetching January, 17 data.\n",
      "Fetching January, 18 data.\n",
      "Fetching January, 19 data.\n",
      "Fetching January, 20 data.\n",
      "Fetching January, 21 data.\n",
      "Fetching January, 22 data.\n",
      "Fetching January, 23 data.\n",
      "Fetching January, 24 data.\n",
      "Fetching January, 25 data.\n",
      "Fetching January, 26 data.\n",
      "Fetching January, 27 data.\n",
      "Fetching January, 28 data.\n",
      "Fetching January, 29 data.\n",
      "Fetching January, 30 data.\n",
      "Fetching January, 31 data.\n",
      "All done!\n"
     ]
    }
   ],
   "source": [
    "# January Query\n",
    "\n",
    "jan_days = ['01', '02', '03', '04', '05', '06', '07', '08', '09', '10', '11', '12', '13', '14', '15',\n",
    "            '16', '17', '18', '19', '20', '21', '22', '23', '24', '25', '26', '27', '28', '29', '30', '31']\n",
    "january_dfs = []\n",
    "\n",
    "for day in jan_days:\n",
    "    print(f'Fetching January, {day} data.')\n",
    "    \n",
    "    jan_sql = f'''\n",
    "    SELECT gkg.DATE, gkg.V2Locations, gkg.V2Themes, gkg.V2Tone\n",
    "    FROM `gdelt-bq.gdeltv2.gkg` AS gkg\n",
    "    WHERE gkg.V2Themes LIKE \"%SHORTAGE%\"\n",
    "        AND gkg.DATE BETWEEN 202001{day}000000 AND 202001{day}240000\n",
    "    ORDER BY gkg.DATE DESC\n",
    "    LIMIT 10\n",
    "    '''\n",
    "    \n",
    "    gkg_jan = client.query(jan_sql).to_dataframe()\n",
    "    \n",
    "    january_dfs.append(gkg_jan)\n",
    "    \n",
    "print('All done!')"
   ]
  },
  {
   "cell_type": "code",
   "execution_count": 4,
   "metadata": {},
   "outputs": [
    {
     "name": "stdout",
     "output_type": "stream",
     "text": [
      "Fetching February, 01 data.\n",
      "Fetching February, 02 data.\n",
      "Fetching February, 03 data.\n",
      "Fetching February, 04 data.\n",
      "Fetching February, 05 data.\n",
      "Fetching February, 06 data.\n",
      "Fetching February, 07 data.\n",
      "Fetching February, 08 data.\n",
      "Fetching February, 09 data.\n",
      "Fetching February, 10 data.\n",
      "Fetching February, 11 data.\n",
      "Fetching February, 12 data.\n",
      "Fetching February, 13 data.\n",
      "Fetching February, 14 data.\n",
      "Fetching February, 15 data.\n",
      "Fetching February, 16 data.\n",
      "Fetching February, 17 data.\n",
      "Fetching February, 18 data.\n",
      "Fetching February, 19 data.\n",
      "Fetching February, 20 data.\n",
      "Fetching February, 21 data.\n",
      "Fetching February, 22 data.\n",
      "Fetching February, 23 data.\n",
      "Fetching February, 24 data.\n",
      "Fetching February, 25 data.\n",
      "Fetching February, 26 data.\n",
      "Fetching February, 27 data.\n",
      "Fetching February, 28 data.\n",
      "Fetching February, 29 data.\n",
      "All done!\n"
     ]
    }
   ],
   "source": [
    "# February Query\n",
    "\n",
    "feb_days = ['01', '02', '03', '04', '05', '06', '07', '08', '09', '10', '11', '12', '13', '14', '15',\n",
    "            '16', '17', '18', '19', '20', '21', '22', '23', '24', '25', '26', '27', '28', '29']\n",
    "february_dfs = []\n",
    "\n",
    "for day in feb_days:\n",
    "    print(f'Fetching February, {day} data.')\n",
    "    \n",
    "    feb_sql = f'''\n",
    "    SELECT gkg.DATE, gkg.V2Locations, gkg.V2Themes, gkg.V2Tone\n",
    "    FROM `gdelt-bq.gdeltv2.gkg` AS gkg\n",
    "    WHERE gkg.V2Themes LIKE \"%SHORTAGE%\"\n",
    "        AND gkg.DATE BETWEEN 202002{day}000000 AND 202002{day}240000\n",
    "    ORDER BY gkg.DATE DESC\n",
    "    LIMIT 10\n",
    "    '''\n",
    "    \n",
    "    gkg_feb = client.query(feb_sql).to_dataframe()\n",
    "    \n",
    "    february_dfs.append(gkg_feb)\n",
    "    \n",
    "print('All done!')"
   ]
  },
  {
   "cell_type": "code",
   "execution_count": 5,
   "metadata": {},
   "outputs": [
    {
     "name": "stdout",
     "output_type": "stream",
     "text": [
      "Fetching March, 01 data.\n",
      "Fetching March, 02 data.\n",
      "Fetching March, 03 data.\n",
      "Fetching March, 04 data.\n",
      "Fetching March, 05 data.\n",
      "Fetching March, 06 data.\n",
      "Fetching March, 07 data.\n",
      "Fetching March, 08 data.\n",
      "Fetching March, 09 data.\n",
      "Fetching March, 10 data.\n",
      "Fetching March, 11 data.\n",
      "Fetching March, 12 data.\n",
      "Fetching March, 13 data.\n",
      "Fetching March, 14 data.\n",
      "Fetching March, 15 data.\n",
      "Fetching March, 16 data.\n",
      "Fetching March, 17 data.\n",
      "Fetching March, 18 data.\n",
      "Fetching March, 19 data.\n",
      "Fetching March, 20 data.\n",
      "Fetching March, 21 data.\n",
      "Fetching March, 22 data.\n",
      "Fetching March, 23 data.\n",
      "Fetching March, 24 data.\n",
      "Fetching March, 25 data.\n",
      "Fetching March, 26 data.\n",
      "Fetching March, 27 data.\n",
      "Fetching March, 28 data.\n",
      "Fetching March, 29 data.\n",
      "Fetching March, 30 data.\n",
      "Fetching March, 31 data.\n",
      "All done!\n"
     ]
    }
   ],
   "source": [
    "# March Query\n",
    "\n",
    "mar_days = ['01', '02', '03', '04', '05', '06', '07', '08', '09', '10', '11', '12', '13', '14', '15',\n",
    "            '16', '17', '18', '19', '20', '21', '22', '23', '24', '25', '26', '27', '28', '29', '30', '31']\n",
    "march_dfs = []\n",
    "\n",
    "for day in mar_days:\n",
    "    print(f'Fetching March, {day} data.')\n",
    "    \n",
    "    mar_sql = f'''\n",
    "    SELECT gkg.DATE, gkg.V2Locations, gkg.V2Themes, gkg.V2Tone\n",
    "    FROM `gdelt-bq.gdeltv2.gkg` AS gkg\n",
    "    WHERE gkg.V2Themes LIKE \"%SHORTAGE%\"\n",
    "        AND gkg.DATE BETWEEN 202003{day}000000 AND 202003{day}240000\n",
    "    ORDER BY gkg.DATE DESC\n",
    "    LIMIT 10\n",
    "    '''\n",
    "    \n",
    "    gkg_mar = client.query(mar_sql).to_dataframe()\n",
    "    \n",
    "    march_dfs.append(gkg_mar)\n",
    "    \n",
    "print('All done!')"
   ]
  },
  {
   "cell_type": "code",
   "execution_count": 6,
   "metadata": {},
   "outputs": [
    {
     "name": "stdout",
     "output_type": "stream",
     "text": [
      "Fetching April, 01 data.\n",
      "Fetching April, 02 data.\n",
      "Fetching April, 03 data.\n",
      "Fetching April, 04 data.\n",
      "Fetching April, 05 data.\n",
      "Fetching April, 06 data.\n",
      "Fetching April, 07 data.\n",
      "Fetching April, 08 data.\n",
      "Fetching April, 09 data.\n",
      "Fetching April, 10 data.\n",
      "Fetching April, 11 data.\n",
      "Fetching April, 12 data.\n",
      "Fetching April, 13 data.\n",
      "Fetching April, 14 data.\n",
      "Fetching April, 15 data.\n",
      "Fetching April, 16 data.\n",
      "Fetching April, 17 data.\n",
      "Fetching April, 18 data.\n",
      "Fetching April, 19 data.\n",
      "Fetching April, 20 data.\n",
      "Fetching April, 21 data.\n",
      "Fetching April, 22 data.\n",
      "Fetching April, 23 data.\n",
      "Fetching April, 24 data.\n",
      "Fetching April, 25 data.\n",
      "Fetching April, 26 data.\n",
      "Fetching April, 27 data.\n",
      "Fetching April, 28 data.\n",
      "Fetching April, 29 data.\n",
      "Fetching April, 30 data.\n",
      "All done!\n"
     ]
    }
   ],
   "source": [
    "# April Query\n",
    "\n",
    "apr_days = ['01', '02', '03', '04', '05', '06', '07', '08', '09', '10', '11', '12', '13', '14', '15',\n",
    "            '16', '17', '18', '19', '20', '21', '22', '23', '24', '25', '26', '27', '28', '29', '30']\n",
    "april_dfs = []\n",
    "\n",
    "for day in apr_days:\n",
    "    print(f'Fetching April, {day} data.')\n",
    "    \n",
    "    apr_sql = f'''\n",
    "    SELECT gkg.DATE, gkg.V2Locations, gkg.V2Themes, gkg.V2Tone\n",
    "    FROM `gdelt-bq.gdeltv2.gkg` AS gkg\n",
    "    WHERE gkg.V2Themes LIKE \"%SHORTAGE%\"\n",
    "        AND gkg.DATE BETWEEN 202004{day}000000 AND 202004{day}240000\n",
    "    ORDER BY gkg.DATE DESC\n",
    "    LIMIT 10\n",
    "    '''\n",
    "    \n",
    "    gkg_apr = client.query(apr_sql).to_dataframe()\n",
    "    \n",
    "    april_dfs.append(gkg_apr)\n",
    "    \n",
    "print('All done!')"
   ]
  },
  {
   "cell_type": "code",
   "execution_count": 7,
   "metadata": {},
   "outputs": [
    {
     "name": "stdout",
     "output_type": "stream",
     "text": [
      "Fetching May, 01 data.\n",
      "Fetching May, 02 data.\n",
      "Fetching May, 03 data.\n",
      "Fetching May, 04 data.\n",
      "Fetching May, 05 data.\n",
      "Fetching May, 06 data.\n",
      "Fetching May, 07 data.\n",
      "Fetching May, 08 data.\n",
      "Fetching May, 09 data.\n",
      "Fetching May, 10 data.\n",
      "Fetching May, 11 data.\n",
      "Fetching May, 12 data.\n",
      "All done!\n"
     ]
    }
   ],
   "source": [
    "# May Query\n",
    "\n",
    "may_days = ['01', '02', '03', '04', '05', '06', '07', '08', '09', '10', '11', '12']\n",
    "may_dfs = []\n",
    "\n",
    "for day in may_days:\n",
    "    print(f'Fetching May, {day} data.')\n",
    "    \n",
    "    may_sql = f'''\n",
    "    SELECT gkg.DATE, gkg.V2Locations, gkg.V2Themes, gkg.V2Tone\n",
    "    FROM `gdelt-bq.gdeltv2.gkg` AS gkg\n",
    "    WHERE gkg.V2Themes LIKE \"%SHORTAGE%\"\n",
    "        AND gkg.DATE BETWEEN 202005{day}000000 AND 202005{day}240000\n",
    "    ORDER BY gkg.DATE DESC\n",
    "    LIMIT 10\n",
    "    '''\n",
    "    \n",
    "    gkg_may = client.query(may_sql).to_dataframe()\n",
    "    \n",
    "    may_dfs.append(gkg_may)\n",
    "    \n",
    "print('All done!')"
   ]
  },
  {
   "cell_type": "code",
   "execution_count": 8,
   "metadata": {},
   "outputs": [],
   "source": [
    "# Concatenate all df lists into individual dfs.\n",
    "january = pd.concat(january_dfs)\n",
    "february = pd.concat(february_dfs)\n",
    "march = pd.concat(march_dfs)\n",
    "april = pd.concat(april_dfs)\n",
    "may = pd.concat(may_dfs)"
   ]
  },
  {
   "cell_type": "code",
   "execution_count": 9,
   "metadata": {},
   "outputs": [],
   "source": [
    "# Concatenate all monthly dfs into one master df for 2020.\n",
    "master = pd.concat([january, february, march, april, may])"
   ]
  },
  {
   "cell_type": "code",
   "execution_count": 10,
   "metadata": {},
   "outputs": [],
   "source": [
    "# Convert all dfs to .csv files.\n",
    "january.to_csv('./jan_raw.csv', index=False)\n",
    "february.to_csv('./feb_raw.csv', index=False)\n",
    "march.to_csv('./march_raw.csv', index=False)\n",
    "april.to_csv('./april_raw.csv', index=False)\n",
    "may.to_csv('./may_raw.csv', index=False)\n",
    "master.to_csv('./master_raw.csv', index=False)"
   ]
  },
  {
   "cell_type": "code",
   "execution_count": null,
   "metadata": {},
   "outputs": [],
   "source": []
  }
 ],
 "metadata": {
  "kernelspec": {
   "display_name": "Python 3",
   "language": "python",
   "name": "python3"
  },
  "language_info": {
   "codemirror_mode": {
    "name": "ipython",
    "version": 3
   },
   "file_extension": ".py",
   "mimetype": "text/x-python",
   "name": "python",
   "nbconvert_exporter": "python",
   "pygments_lexer": "ipython3",
   "version": "3.7.6"
  }
 },
 "nbformat": 4,
 "nbformat_minor": 4
}
