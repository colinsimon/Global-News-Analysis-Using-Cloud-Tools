{
 "cells": [
  {
   "cell_type": "markdown",
   "metadata": {},
   "source": [
    "# Cleaning Part 1\n",
    "\n",
    "---\n",
    "\n",
    "Nate Bukowski"
   ]
  },
  {
   "cell_type": "code",
   "execution_count": 39,
   "metadata": {},
   "outputs": [],
   "source": [
    "# imports\n",
    "import pandas as pd\n",
    "import numpy as np\n",
    "\n",
    "from nltk.tokenize import RegexpTokenizer"
   ]
  },
  {
   "cell_type": "code",
   "execution_count": 40,
   "metadata": {},
   "outputs": [],
   "source": [
    "master = pd.read_csv('./master_raw.csv')"
   ]
  },
  {
   "cell_type": "code",
   "execution_count": 41,
   "metadata": {
    "scrolled": true
   },
   "outputs": [
    {
     "data": {
      "text/html": [
       "<div>\n",
       "<style scoped>\n",
       "    .dataframe tbody tr th:only-of-type {\n",
       "        vertical-align: middle;\n",
       "    }\n",
       "\n",
       "    .dataframe tbody tr th {\n",
       "        vertical-align: top;\n",
       "    }\n",
       "\n",
       "    .dataframe thead th {\n",
       "        text-align: right;\n",
       "    }\n",
       "</style>\n",
       "<table border=\"1\" class=\"dataframe\">\n",
       "  <thead>\n",
       "    <tr style=\"text-align: right;\">\n",
       "      <th></th>\n",
       "      <th>DATE</th>\n",
       "      <th>V2Locations</th>\n",
       "      <th>V2Themes</th>\n",
       "      <th>V2Tone</th>\n",
       "    </tr>\n",
       "  </thead>\n",
       "  <tbody>\n",
       "    <tr>\n",
       "      <th>0</th>\n",
       "      <td>20200101234500</td>\n",
       "      <td>4#Dongxing, Jilin, China#CH#CH05#13176#43.0855...</td>\n",
       "      <td>BAN,762;MEDIA_MSM,219;WB_1921_PRIVATE_SECTOR_D...</td>\n",
       "      <td>2.27920227920228,3.7037037037037,1.42450142450...</td>\n",
       "    </tr>\n",
       "    <tr>\n",
       "      <th>1</th>\n",
       "      <td>20200101234500</td>\n",
       "      <td>1#Chinese#CH#CH##35#105#CH#407;1#China#CH#CH##...</td>\n",
       "      <td>TAX_FNCACT_EXECUTIVE_DIRECTOR,3581;WB_566_ENVI...</td>\n",
       "      <td>0.335570469798658,3.18791946308725,2.852348993...</td>\n",
       "    </tr>\n",
       "    <tr>\n",
       "      <th>2</th>\n",
       "      <td>20200101234500</td>\n",
       "      <td>4#Hanoi, Ha N?I, Vietnam, Republic Of#VM#VM44#...</td>\n",
       "      <td>TAX_FNCACT_CHILD,1184;TAX_FNCACT_CHILD,1769;TA...</td>\n",
       "      <td>-4.91978609625669,1.71122994652406,6.631016042...</td>\n",
       "    </tr>\n",
       "    <tr>\n",
       "      <th>3</th>\n",
       "      <td>20200101234500</td>\n",
       "      <td>4#Negueira, Galicia, Spain#SP#SP58#25787#43.13...</td>\n",
       "      <td>RURAL,2751;EPU_ECONOMY_HISTORIC,1930;AGRICULTU...</td>\n",
       "      <td>-1.87319884726225,1.44092219020173,3.314121037...</td>\n",
       "    </tr>\n",
       "    <tr>\n",
       "      <th>4</th>\n",
       "      <td>20200101234500</td>\n",
       "      <td>4#Peruibe, SãPaulo, Brazil#BR#BR27#11404#-24.3...</td>\n",
       "      <td>MOVEMENT_GENERAL,1613;CRISISLEX_T04_INFRASTRUC...</td>\n",
       "      <td>-4.44964871194379,1.40515222482436,5.854800936...</td>\n",
       "    </tr>\n",
       "  </tbody>\n",
       "</table>\n",
       "</div>"
      ],
      "text/plain": [
       "             DATE                                        V2Locations  \\\n",
       "0  20200101234500  4#Dongxing, Jilin, China#CH#CH05#13176#43.0855...   \n",
       "1  20200101234500  1#Chinese#CH#CH##35#105#CH#407;1#China#CH#CH##...   \n",
       "2  20200101234500  4#Hanoi, Ha N?I, Vietnam, Republic Of#VM#VM44#...   \n",
       "3  20200101234500  4#Negueira, Galicia, Spain#SP#SP58#25787#43.13...   \n",
       "4  20200101234500  4#Peruibe, SãPaulo, Brazil#BR#BR27#11404#-24.3...   \n",
       "\n",
       "                                            V2Themes  \\\n",
       "0  BAN,762;MEDIA_MSM,219;WB_1921_PRIVATE_SECTOR_D...   \n",
       "1  TAX_FNCACT_EXECUTIVE_DIRECTOR,3581;WB_566_ENVI...   \n",
       "2  TAX_FNCACT_CHILD,1184;TAX_FNCACT_CHILD,1769;TA...   \n",
       "3  RURAL,2751;EPU_ECONOMY_HISTORIC,1930;AGRICULTU...   \n",
       "4  MOVEMENT_GENERAL,1613;CRISISLEX_T04_INFRASTRUC...   \n",
       "\n",
       "                                              V2Tone  \n",
       "0  2.27920227920228,3.7037037037037,1.42450142450...  \n",
       "1  0.335570469798658,3.18791946308725,2.852348993...  \n",
       "2  -4.91978609625669,1.71122994652406,6.631016042...  \n",
       "3  -1.87319884726225,1.44092219020173,3.314121037...  \n",
       "4  -4.44964871194379,1.40515222482436,5.854800936...  "
      ]
     },
     "execution_count": 41,
     "metadata": {},
     "output_type": "execute_result"
    }
   ],
   "source": [
    "master.head()"
   ]
  },
  {
   "cell_type": "code",
   "execution_count": 42,
   "metadata": {},
   "outputs": [
    {
     "name": "stdout",
     "output_type": "stream",
     "text": [
      "(265, 11)\n",
      "(269, 11)\n",
      "(238, 11)\n",
      "(226, 11)\n",
      "(102, 11)\n",
      "(1330, 4)\n"
     ]
    }
   ],
   "source": [
    "df_list = [january, february, march, april, may, master]\n",
    "\n",
    "for df in df_list:\n",
    "    print(df.shape)"
   ]
  },
  {
   "cell_type": "code",
   "execution_count": 43,
   "metadata": {},
   "outputs": [
    {
     "data": {
      "text/plain": [
       "DATE             0\n",
       "V2Locations    230\n",
       "V2Themes         0\n",
       "V2Tone           0\n",
       "dtype: int64"
      ]
     },
     "execution_count": 43,
     "metadata": {},
     "output_type": "execute_result"
    }
   ],
   "source": [
    "master.isna().sum()"
   ]
  },
  {
   "cell_type": "code",
   "execution_count": 44,
   "metadata": {},
   "outputs": [],
   "source": [
    "# Function for reformatting the 'DATE' column\n",
    "\n",
    "def reformat_date(df):\n",
    "    \n",
    "    # Create clean_date list of reformatted dates\n",
    "    clean_date = [pd.to_datetime(str(date)[:8]) for date in df['DATE']]\n",
    "\n",
    "    # Assign clean_date list to new 'date' column.\n",
    "    df['date'] = clean_date\n",
    "    \n",
    "    return df"
   ]
  },
  {
   "cell_type": "code",
   "execution_count": 45,
   "metadata": {},
   "outputs": [],
   "source": [
    "# Function that takes in the dataframe and creates the 'latitude' and 'longitude' columns necessary for mapping.\n",
    "# The 'latitude' and 'longitude' columns contain the first set of coordinates listed in the 'V2Locations' column.\n",
    "\n",
    "# 'V2Locations': Semicolon-delimited blocks, with pound symbol delimited fields.\n",
    "# This is a list of all locations found in the text.\n",
    "\n",
    "def lat_long(df):\n",
    "    \n",
    "    # Create an empty list to put the coordinates in.\n",
    "    all_coordinates = []\n",
    "    \n",
    "    # Loop through the rows in 'V2Locations' and store all of the coordinates found in the row in a list.\n",
    "    # Then append the list of row coordinates to the all_coordinates list.\n",
    "    for locations in df['V2Locations']:\n",
    "        row_coordinates = [location.split('#')[5:7] for location in locations.split(';')]\n",
    "        all_coordinates.append(row_coordinates)       \n",
    "\n",
    "    # Pull only the first set of coordinates from each row out of all_coordinates.\n",
    "    first_coordinate_set = [coordinate[0] for coordinate in all_coordinates]\n",
    "\n",
    "    # Create two new lists. One containing the latitudes and one containing the longitudes.\n",
    "    latitude = [lat[0] for lat in first_coordinate_set]\n",
    "    longitude = [long[1] for long in first_coordinate_set]\n",
    "\n",
    "    # Create 'latitude' and 'longitude' columns.\n",
    "    df['latitude'] = latitude\n",
    "    df['longitude'] = longitude\n",
    "\n",
    "    # Remove any whitespace.\n",
    "    for num in df['latitude']:\n",
    "        num.strip()\n",
    "\n",
    "    for num in df['longitude']:\n",
    "        num.strip()\n",
    "    \n",
    "    # Drop all columns with missing coordinate sets.\n",
    "    df = df.loc[df['latitude'] != '']\n",
    "    df = df.loc[df['longitude'] != '']\n",
    "    \n",
    "    \n",
    "    # Cast both new columns as float dtypes.\n",
    "    \n",
    "    # I've tried many different ways of doing this, but none seem to work inside of the function...\n",
    "    \n",
    "    for lat in df['latitude']:\n",
    "        try:\n",
    "            float(lat)\n",
    "        except ValueError:\n",
    "            print(lat)\n",
    "    \n",
    "    for long in df['longitude']:\n",
    "        try:\n",
    "            float(long)\n",
    "        except ValueError:\n",
    "            print(long)\n",
    "            \n",
    "    df['latitude'] = df['latitude'].astype(float)\n",
    "    df['longitude'] = df['longitude'].astype(float)\n",
    "\n",
    "    return df"
   ]
  },
  {
   "cell_type": "code",
   "execution_count": 46,
   "metadata": {},
   "outputs": [],
   "source": [
    "# Function for cleaning 'V2Themes' column.\n",
    "\n",
    "# A complete list of possible themes can be found here: \n",
    "# https://blog.gdeltproject.org/new-august-2019-gkg-2-0-themes-lookup/\n",
    "\n",
    "def clean_themes(df):\n",
    "    \n",
    "    # Create a list to store clean themes in.\n",
    "    all_themes = []\n",
    "\n",
    "    # Create a list for each row and add that list to all_themes.\n",
    "    for themes in df['V2Themes']:\n",
    "        row_themes = [theme.strip(',0123456789') for theme in themes.split(';')]\n",
    "        all_themes.append(row_themes)\n",
    "\n",
    "    # Assing all_themes to the new 'themes' column.\n",
    "    df['themes'] = all_themes\n",
    "    \n",
    "    return df"
   ]
  },
  {
   "cell_type": "code",
   "execution_count": 47,
   "metadata": {
    "scrolled": true
   },
   "outputs": [],
   "source": [
    "# Function for cleaning the 'V2Tone' column. \n",
    "\n",
    "# The 'V2Tone' column is broken up into the following categories:\n",
    "# Tone: This is the average “tone” of the document as a whole. \n",
    "# Positive Score: This is the percentage of all words in the article \n",
    "#                 that were found to have a positive emotional connotation.\n",
    "# Negative Score: This is the percentage of all words in the article \n",
    "#                 that were found to have a positive emotional connotation. \n",
    "# Polarity: This is the percentage of words that had matches in the tonal dictionary \n",
    "#           as an indicator of how emotionally polarized or charged the text is.\n",
    "# Activity Reference Density: This is the percentage of words that were active words offering \n",
    "#                             a very basic proxy of the overall “activeness” of the text compared \n",
    "#                             with a clinically descriptive text.\n",
    "# Self/Group Reference Density: This is the percentage of all words in the article that are pronouns,\n",
    "#                               capturing a combination of self-references and group-based discourse.\n",
    "# Word Count: This is the total number of words in the document. \n",
    "\n",
    "# We will only keep Tone.\n",
    "\n",
    "def clean_tone(df):\n",
    "\n",
    "    # Create a list for the tone category.\n",
    "    tone = [tones.split(',')[0]for tones in df['V2Tone']]\n",
    "#     negative_score = [tones.split(',')[1]for tones in df['V2Tone']]\n",
    "#     positive_score = [tones.split(',')[2]for tones in df['V2Tone']]\n",
    "#     polarity = [tones.split(',')[3]for tones in df['V2Tone']]\n",
    "#     activity_reference_density = [tones.split(',')[4]for tones in df['V2Tone']]\n",
    "#     self_group_reference_density = [tones.split(',')[5]for tones in df['V2Tone']]\n",
    "#     word_count = [tones.split(',')[6]for tones in df['V2Tone']]\n",
    "\n",
    "    # Create the 'tone' column.\n",
    "    df['tone'] = tone\n",
    "#     df['negative_score'] = negative_score\n",
    "#     df['positive_score'] = positive_score\n",
    "#     df['polarity'] = polarity\n",
    "#     df['activity_reference_density'] = activity_reference_density\n",
    "#     df['self_group_reference_density'] = self_group_reference_density\n",
    "#     df['word_count'] = word_count\n",
    "    \n",
    "    # Cast 'tone' as a float.\n",
    "    df['tone'] = df['tone'].astype(float)\n",
    "#     df['negative_score'] = df['negative_score'].astype(float)\n",
    "#     df['positive_score'] = df['positive_score'].astype(float)\n",
    "#     df['polarity'] = df['polarity'].astype(float)\n",
    "#     df['activity_reference_density'] = df['activity_reference_density'].astype(float)\n",
    "#     df['self_group_reference_density'] = df['self_group_reference_density'].astype(float)\n",
    "#     df['word_count'] = df['word_count'].astype(float)\n",
    "    \n",
    "    return df"
   ]
  },
  {
   "cell_type": "code",
   "execution_count": 48,
   "metadata": {},
   "outputs": [],
   "source": [
    "def clean_df(df):\n",
    "    \n",
    "    # Remove all NaNs\n",
    "    df.dropna(inplace=True)\n",
    "    \n",
    "    # Refomat the 'DATE' column.\n",
    "    reformat_date(df)\n",
    "    \n",
    "    # Create 'latitude' and 'longitude' columns.\n",
    "    lat_long(df)  \n",
    "    \n",
    "    # Clean the 'V2Themes' column.\n",
    "    clean_themes(df)\n",
    "    \n",
    "    # Clean the 'V2Tones' column.\n",
    "    clean_tone(df)\n",
    "    \n",
    "    # Drop the old and unusable columns.\n",
    "    df.drop(columns=['DATE', 'V2Locations', 'V2Themes', 'V2Tone'], inplace=True)\n",
    "    \n",
    "    return df"
   ]
  },
  {
   "cell_type": "code",
   "execution_count": 49,
   "metadata": {},
   "outputs": [],
   "source": [
    "clean_master = clean_df(master)"
   ]
  },
  {
   "cell_type": "code",
   "execution_count": 50,
   "metadata": {},
   "outputs": [
    {
     "data": {
      "text/plain": [
       "date         datetime64[ns]\n",
       "latitude             object\n",
       "longitude            object\n",
       "themes               object\n",
       "tone                float64\n",
       "dtype: object"
      ]
     },
     "execution_count": 50,
     "metadata": {},
     "output_type": "execute_result"
    }
   ],
   "source": [
    "clean_master.dtypes"
   ]
  },
  {
   "cell_type": "code",
   "execution_count": 51,
   "metadata": {},
   "outputs": [],
   "source": [
    "# Cast 'latitude' column as floats.\n",
    "for num in clean_master['latitude']:\n",
    "    num.strip()\n",
    "\n",
    "clean_master = clean_master.loc[clean_master['latitude'] != '']\n",
    "\n",
    "for lat in clean_master['latitude']:\n",
    "    try:\n",
    "        float(lat)\n",
    "    except ValueError:\n",
    "        print(f'error: {lat}')\n",
    "\n",
    "clean_master['latitude'] = clean_master['latitude'].astype(float)\n",
    "\n",
    "# Cast 'longitude' column as floats.\n",
    "for num in clean_master['longitude']:\n",
    "    num.strip()\n",
    "\n",
    "clean_master = clean_master.loc[clean_master['longitude'] != '']\n",
    "\n",
    "for lat in clean_master['longitude']:\n",
    "    try:\n",
    "        float(lat)\n",
    "    except ValueError:\n",
    "        print(f'error: {lat}')\n",
    "\n",
    "clean_master['longitude'] = clean_master['longitude'].astype(float)\n"
   ]
  },
  {
   "cell_type": "code",
   "execution_count": 52,
   "metadata": {},
   "outputs": [
    {
     "data": {
      "text/plain": [
       "date         datetime64[ns]\n",
       "latitude            float64\n",
       "longitude           float64\n",
       "themes               object\n",
       "tone                float64\n",
       "dtype: object"
      ]
     },
     "execution_count": 52,
     "metadata": {},
     "output_type": "execute_result"
    }
   ],
   "source": [
    "clean_master.dtypes"
   ]
  },
  {
   "cell_type": "code",
   "execution_count": 53,
   "metadata": {},
   "outputs": [
    {
     "data": {
      "text/plain": [
       "(1100, 5)"
      ]
     },
     "execution_count": 53,
     "metadata": {},
     "output_type": "execute_result"
    }
   ],
   "source": [
    "clean_master.shape"
   ]
  },
  {
   "cell_type": "code",
   "execution_count": 54,
   "metadata": {},
   "outputs": [
    {
     "data": {
      "text/html": [
       "<div>\n",
       "<style scoped>\n",
       "    .dataframe tbody tr th:only-of-type {\n",
       "        vertical-align: middle;\n",
       "    }\n",
       "\n",
       "    .dataframe tbody tr th {\n",
       "        vertical-align: top;\n",
       "    }\n",
       "\n",
       "    .dataframe thead th {\n",
       "        text-align: right;\n",
       "    }\n",
       "</style>\n",
       "<table border=\"1\" class=\"dataframe\">\n",
       "  <thead>\n",
       "    <tr style=\"text-align: right;\">\n",
       "      <th></th>\n",
       "      <th>date</th>\n",
       "      <th>latitude</th>\n",
       "      <th>longitude</th>\n",
       "      <th>themes</th>\n",
       "      <th>tone</th>\n",
       "    </tr>\n",
       "  </thead>\n",
       "  <tbody>\n",
       "    <tr>\n",
       "      <th>0</th>\n",
       "      <td>2020-01-01</td>\n",
       "      <td>43.0855</td>\n",
       "      <td>129.30200</td>\n",
       "      <td>[BAN, MEDIA_MSM, WB_1921_PRIVATE_SECTOR_DEVELO...</td>\n",
       "      <td>2.279202</td>\n",
       "    </tr>\n",
       "    <tr>\n",
       "      <th>1</th>\n",
       "      <td>2020-01-01</td>\n",
       "      <td>35.0000</td>\n",
       "      <td>105.00000</td>\n",
       "      <td>[TAX_FNCACT_EXECUTIVE_DIRECTOR, WB_566_ENVIRON...</td>\n",
       "      <td>0.335570</td>\n",
       "    </tr>\n",
       "    <tr>\n",
       "      <th>2</th>\n",
       "      <td>2020-01-01</td>\n",
       "      <td>21.0333</td>\n",
       "      <td>105.85000</td>\n",
       "      <td>[TAX_FNCACT_CHILD, TAX_FNCACT_CHILD, TAX_FNCAC...</td>\n",
       "      <td>-4.919786</td>\n",
       "    </tr>\n",
       "    <tr>\n",
       "      <th>3</th>\n",
       "      <td>2020-01-01</td>\n",
       "      <td>43.1346</td>\n",
       "      <td>-6.89444</td>\n",
       "      <td>[RURAL, EPU_ECONOMY_HISTORIC, AGRICULTURE, GEN...</td>\n",
       "      <td>-1.873199</td>\n",
       "    </tr>\n",
       "    <tr>\n",
       "      <th>4</th>\n",
       "      <td>2020-01-01</td>\n",
       "      <td>-24.3167</td>\n",
       "      <td>-47.00000</td>\n",
       "      <td>[MOVEMENT_GENERAL, CRISISLEX_T04_INFRASTRUCTUR...</td>\n",
       "      <td>-4.449649</td>\n",
       "    </tr>\n",
       "  </tbody>\n",
       "</table>\n",
       "</div>"
      ],
      "text/plain": [
       "        date  latitude  longitude  \\\n",
       "0 2020-01-01   43.0855  129.30200   \n",
       "1 2020-01-01   35.0000  105.00000   \n",
       "2 2020-01-01   21.0333  105.85000   \n",
       "3 2020-01-01   43.1346   -6.89444   \n",
       "4 2020-01-01  -24.3167  -47.00000   \n",
       "\n",
       "                                              themes      tone  \n",
       "0  [BAN, MEDIA_MSM, WB_1921_PRIVATE_SECTOR_DEVELO...  2.279202  \n",
       "1  [TAX_FNCACT_EXECUTIVE_DIRECTOR, WB_566_ENVIRON...  0.335570  \n",
       "2  [TAX_FNCACT_CHILD, TAX_FNCACT_CHILD, TAX_FNCAC... -4.919786  \n",
       "3  [RURAL, EPU_ECONOMY_HISTORIC, AGRICULTURE, GEN... -1.873199  \n",
       "4  [MOVEMENT_GENERAL, CRISISLEX_T04_INFRASTRUCTUR... -4.449649  "
      ]
     },
     "execution_count": 54,
     "metadata": {},
     "output_type": "execute_result"
    }
   ],
   "source": [
    "clean_master.head()"
   ]
  },
  {
   "cell_type": "code",
   "execution_count": 55,
   "metadata": {},
   "outputs": [],
   "source": [
    "clean_master.to_csv('./master_clean.csv', index=False)"
   ]
  },
  {
   "cell_type": "code",
   "execution_count": null,
   "metadata": {},
   "outputs": [],
   "source": []
  }
 ],
 "metadata": {
  "kernelspec": {
   "display_name": "Python 3",
   "language": "python",
   "name": "python3"
  },
  "language_info": {
   "codemirror_mode": {
    "name": "ipython",
    "version": 3
   },
   "file_extension": ".py",
   "mimetype": "text/x-python",
   "name": "python",
   "nbconvert_exporter": "python",
   "pygments_lexer": "ipython3",
   "version": "3.7.6"
  }
 },
 "nbformat": 4,
 "nbformat_minor": 4
}
